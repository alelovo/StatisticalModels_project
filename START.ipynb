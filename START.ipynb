{
 "cells": [
  {
   "cell_type": "markdown",
   "metadata": {},
   "source": [
    "## PACKAGES"
   ]
  },
  {
   "cell_type": "code",
   "execution_count": 1,
   "metadata": {},
   "outputs": [],
   "source": [
    "import numpy as np\n",
    "import pandas as pd\n",
    "import math\n",
    "import statistics\n",
    "import scipy.stats as stats\n",
    "\n",
    "import matplotlib.pyplot as plt\n",
    "import seaborn as sns"
   ]
  },
  {
   "cell_type": "markdown",
   "metadata": {},
   "source": [
    "## 1. Loading, converting and cleaning of the data (note: aggregate the data in order to have weekly frequency)"
   ]
  },
  {
   "cell_type": "code",
   "execution_count": 2,
   "metadata": {},
   "outputs": [
    {
     "data": {
      "text/html": [
       "<div>\n",
       "<style scoped>\n",
       "    .dataframe tbody tr th:only-of-type {\n",
       "        vertical-align: middle;\n",
       "    }\n",
       "\n",
       "    .dataframe tbody tr th {\n",
       "        vertical-align: top;\n",
       "    }\n",
       "\n",
       "    .dataframe thead th {\n",
       "        text-align: right;\n",
       "    }\n",
       "</style>\n",
       "<table border=\"1\" class=\"dataframe\">\n",
       "  <thead>\n",
       "    <tr style=\"text-align: right;\">\n",
       "      <th></th>\n",
       "      <th>p (mbar)</th>\n",
       "      <th>T (degC)</th>\n",
       "      <th>Tpot (K)</th>\n",
       "      <th>Tdew (degC)</th>\n",
       "      <th>rh (%)</th>\n",
       "      <th>VPmax (mbar)</th>\n",
       "      <th>VPact (mbar)</th>\n",
       "      <th>VPdef (mbar)</th>\n",
       "      <th>sh (g/kg)</th>\n",
       "      <th>H2OC (mmol/mol)</th>\n",
       "      <th>rho (g/m**3)</th>\n",
       "      <th>wv (m/s)</th>\n",
       "      <th>max. wv (m/s)</th>\n",
       "      <th>wd (deg)</th>\n",
       "    </tr>\n",
       "    <tr>\n",
       "      <th>Date Time</th>\n",
       "      <th></th>\n",
       "      <th></th>\n",
       "      <th></th>\n",
       "      <th></th>\n",
       "      <th></th>\n",
       "      <th></th>\n",
       "      <th></th>\n",
       "      <th></th>\n",
       "      <th></th>\n",
       "      <th></th>\n",
       "      <th></th>\n",
       "      <th></th>\n",
       "      <th></th>\n",
       "      <th></th>\n",
       "    </tr>\n",
       "  </thead>\n",
       "  <tbody>\n",
       "    <tr>\n",
       "      <th>01.01.2009 00:10:00</th>\n",
       "      <td>996.52</td>\n",
       "      <td>-8.02</td>\n",
       "      <td>265.40</td>\n",
       "      <td>-8.90</td>\n",
       "      <td>93.3</td>\n",
       "      <td>3.33</td>\n",
       "      <td>3.11</td>\n",
       "      <td>0.22</td>\n",
       "      <td>1.94</td>\n",
       "      <td>3.12</td>\n",
       "      <td>1307.75</td>\n",
       "      <td>1.03</td>\n",
       "      <td>1.75</td>\n",
       "      <td>152.3</td>\n",
       "    </tr>\n",
       "    <tr>\n",
       "      <th>01.01.2009 00:20:00</th>\n",
       "      <td>996.57</td>\n",
       "      <td>-8.41</td>\n",
       "      <td>265.01</td>\n",
       "      <td>-9.28</td>\n",
       "      <td>93.4</td>\n",
       "      <td>3.23</td>\n",
       "      <td>3.02</td>\n",
       "      <td>0.21</td>\n",
       "      <td>1.89</td>\n",
       "      <td>3.03</td>\n",
       "      <td>1309.80</td>\n",
       "      <td>0.72</td>\n",
       "      <td>1.50</td>\n",
       "      <td>136.1</td>\n",
       "    </tr>\n",
       "  </tbody>\n",
       "</table>\n",
       "</div>"
      ],
      "text/plain": [
       "                     p (mbar)  T (degC)  Tpot (K)  Tdew (degC)  rh (%)  \\\n",
       "Date Time                                                                \n",
       "01.01.2009 00:10:00    996.52     -8.02    265.40        -8.90    93.3   \n",
       "01.01.2009 00:20:00    996.57     -8.41    265.01        -9.28    93.4   \n",
       "\n",
       "                     VPmax (mbar)  VPact (mbar)  VPdef (mbar)  sh (g/kg)  \\\n",
       "Date Time                                                                  \n",
       "01.01.2009 00:10:00          3.33          3.11          0.22       1.94   \n",
       "01.01.2009 00:20:00          3.23          3.02          0.21       1.89   \n",
       "\n",
       "                     H2OC (mmol/mol)  rho (g/m**3)  wv (m/s)  max. wv (m/s)  \\\n",
       "Date Time                                                                     \n",
       "01.01.2009 00:10:00             3.12       1307.75      1.03           1.75   \n",
       "01.01.2009 00:20:00             3.03       1309.80      0.72           1.50   \n",
       "\n",
       "                     wd (deg)  \n",
       "Date Time                      \n",
       "01.01.2009 00:10:00     152.3  \n",
       "01.01.2009 00:20:00     136.1  "
      ]
     },
     "execution_count": 2,
     "metadata": {},
     "output_type": "execute_result"
    }
   ],
   "source": [
    "w_df=pd.read_csv('Weather_ts.csv',sep=',',parse_dates=['Date Time'],index_col='Date Time')\n",
    "w_df.head(2)"
   ]
  },
  {
   "cell_type": "code",
   "execution_count": 3,
   "metadata": {},
   "outputs": [
    {
     "data": {
      "text/plain": [
       "Index(['p (mbar)', 'T (degC)', 'Tpot (K)', 'Tdew (degC)', 'rh (%)',\n",
       "       'VPmax (mbar)', 'VPact (mbar)', 'VPdef (mbar)', 'sh (g/kg)',\n",
       "       'H2OC (mmol/mol)', 'rho (g/m**3)', 'wv (m/s)', 'max. wv (m/s)',\n",
       "       'wd (deg)'],\n",
       "      dtype='object')"
      ]
     },
     "execution_count": 3,
     "metadata": {},
     "output_type": "execute_result"
    }
   ],
   "source": [
    "w_df.columns"
   ]
  },
  {
   "cell_type": "code",
   "execution_count": 4,
   "metadata": {},
   "outputs": [
    {
     "data": {
      "text/html": [
       "<div>\n",
       "<style scoped>\n",
       "    .dataframe tbody tr th:only-of-type {\n",
       "        vertical-align: middle;\n",
       "    }\n",
       "\n",
       "    .dataframe tbody tr th {\n",
       "        vertical-align: top;\n",
       "    }\n",
       "\n",
       "    .dataframe thead th {\n",
       "        text-align: right;\n",
       "    }\n",
       "</style>\n",
       "<table border=\"1\" class=\"dataframe\">\n",
       "  <thead>\n",
       "    <tr style=\"text-align: right;\">\n",
       "      <th></th>\n",
       "      <th>p (mbar)</th>\n",
       "      <th>T (degC)</th>\n",
       "      <th>Tpot (K)</th>\n",
       "      <th>Tdew (degC)</th>\n",
       "      <th>rh (%)</th>\n",
       "      <th>VPmax (mbar)</th>\n",
       "      <th>VPact (mbar)</th>\n",
       "      <th>VPdef (mbar)</th>\n",
       "      <th>sh (g/kg)</th>\n",
       "      <th>H2OC (mmol/mol)</th>\n",
       "      <th>rho (g/m**3)</th>\n",
       "      <th>wv (m/s)</th>\n",
       "      <th>max. wv (m/s)</th>\n",
       "      <th>wd (deg)</th>\n",
       "    </tr>\n",
       "    <tr>\n",
       "      <th>Date Time</th>\n",
       "      <th></th>\n",
       "      <th></th>\n",
       "      <th></th>\n",
       "      <th></th>\n",
       "      <th></th>\n",
       "      <th></th>\n",
       "      <th></th>\n",
       "      <th></th>\n",
       "      <th></th>\n",
       "      <th></th>\n",
       "      <th></th>\n",
       "      <th></th>\n",
       "      <th></th>\n",
       "      <th></th>\n",
       "    </tr>\n",
       "  </thead>\n",
       "  <tbody>\n",
       "    <tr>\n",
       "      <th>2009-01-04</th>\n",
       "      <td>996.446696</td>\n",
       "      <td>-4.292070</td>\n",
       "      <td>269.146087</td>\n",
       "      <td>-6.185148</td>\n",
       "      <td>87.255409</td>\n",
       "      <td>4.511496</td>\n",
       "      <td>3.918348</td>\n",
       "      <td>0.593009</td>\n",
       "      <td>2.451287</td>\n",
       "      <td>3.934887</td>\n",
       "      <td>1289.293165</td>\n",
       "      <td>1.293252</td>\n",
       "      <td>2.310504</td>\n",
       "      <td>177.589652</td>\n",
       "    </tr>\n",
       "    <tr>\n",
       "      <th>2009-01-11</th>\n",
       "      <td>999.146161</td>\n",
       "      <td>-11.057847</td>\n",
       "      <td>262.168393</td>\n",
       "      <td>-13.171438</td>\n",
       "      <td>84.714841</td>\n",
       "      <td>2.831081</td>\n",
       "      <td>2.369058</td>\n",
       "      <td>0.462044</td>\n",
       "      <td>1.477421</td>\n",
       "      <td>2.372718</td>\n",
       "      <td>1327.335734</td>\n",
       "      <td>1.312153</td>\n",
       "      <td>2.256984</td>\n",
       "      <td>158.967391</td>\n",
       "    </tr>\n",
       "    <tr>\n",
       "      <th>2009-01-18</th>\n",
       "      <td>991.308760</td>\n",
       "      <td>-1.717867</td>\n",
       "      <td>272.126657</td>\n",
       "      <td>-4.664692</td>\n",
       "      <td>81.310595</td>\n",
       "      <td>5.561796</td>\n",
       "      <td>4.483313</td>\n",
       "      <td>1.078720</td>\n",
       "      <td>2.820536</td>\n",
       "      <td>4.526012</td>\n",
       "      <td>1270.352133</td>\n",
       "      <td>1.879524</td>\n",
       "      <td>2.970417</td>\n",
       "      <td>178.882599</td>\n",
       "    </tr>\n",
       "    <tr>\n",
       "      <th>2009-01-25</th>\n",
       "      <td>970.486319</td>\n",
       "      <td>1.151438</td>\n",
       "      <td>276.681220</td>\n",
       "      <td>-1.678264</td>\n",
       "      <td>82.035218</td>\n",
       "      <td>6.752004</td>\n",
       "      <td>5.444335</td>\n",
       "      <td>1.307619</td>\n",
       "      <td>3.499306</td>\n",
       "      <td>5.613720</td>\n",
       "      <td>1230.040417</td>\n",
       "      <td>2.553998</td>\n",
       "      <td>3.973105</td>\n",
       "      <td>188.601022</td>\n",
       "    </tr>\n",
       "    <tr>\n",
       "      <th>2009-02-01</th>\n",
       "      <td>990.295337</td>\n",
       "      <td>-2.464573</td>\n",
       "      <td>271.454127</td>\n",
       "      <td>-3.848323</td>\n",
       "      <td>90.406944</td>\n",
       "      <td>5.104276</td>\n",
       "      <td>4.617619</td>\n",
       "      <td>0.486429</td>\n",
       "      <td>2.905952</td>\n",
       "      <td>4.663750</td>\n",
       "      <td>1272.179296</td>\n",
       "      <td>1.981885</td>\n",
       "      <td>3.170645</td>\n",
       "      <td>46.615129</td>\n",
       "    </tr>\n",
       "  </tbody>\n",
       "</table>\n",
       "</div>"
      ],
      "text/plain": [
       "              p (mbar)   T (degC)    Tpot (K)  Tdew (degC)     rh (%)  \\\n",
       "Date Time                                                               \n",
       "2009-01-04  996.446696  -4.292070  269.146087    -6.185148  87.255409   \n",
       "2009-01-11  999.146161 -11.057847  262.168393   -13.171438  84.714841   \n",
       "2009-01-18  991.308760  -1.717867  272.126657    -4.664692  81.310595   \n",
       "2009-01-25  970.486319   1.151438  276.681220    -1.678264  82.035218   \n",
       "2009-02-01  990.295337  -2.464573  271.454127    -3.848323  90.406944   \n",
       "\n",
       "            VPmax (mbar)  VPact (mbar)  VPdef (mbar)  sh (g/kg)  \\\n",
       "Date Time                                                         \n",
       "2009-01-04      4.511496      3.918348      0.593009   2.451287   \n",
       "2009-01-11      2.831081      2.369058      0.462044   1.477421   \n",
       "2009-01-18      5.561796      4.483313      1.078720   2.820536   \n",
       "2009-01-25      6.752004      5.444335      1.307619   3.499306   \n",
       "2009-02-01      5.104276      4.617619      0.486429   2.905952   \n",
       "\n",
       "            H2OC (mmol/mol)  rho (g/m**3)  wv (m/s)  max. wv (m/s)    wd (deg)  \n",
       "Date Time                                                                       \n",
       "2009-01-04         3.934887   1289.293165  1.293252       2.310504  177.589652  \n",
       "2009-01-11         2.372718   1327.335734  1.312153       2.256984  158.967391  \n",
       "2009-01-18         4.526012   1270.352133  1.879524       2.970417  178.882599  \n",
       "2009-01-25         5.613720   1230.040417  2.553998       3.973105  188.601022  \n",
       "2009-02-01         4.663750   1272.179296  1.981885       3.170645   46.615129  "
      ]
     },
     "execution_count": 4,
     "metadata": {},
     "output_type": "execute_result"
    }
   ],
   "source": [
    "# So first we have to convert the column 'Date Time' in formato datetime\n",
    "w_df.index = pd.to_datetime(w_df.index, format='%d.%m.%Y %H:%M:%S')\n",
    "\n",
    "\n",
    "# Now we want to group it with weeakly bases, use as aggregator the mean\n",
    "w_df = w_df.resample('W').mean()\n",
    "\n",
    "# from this modification we obtain\n",
    "w_df.head()\n"
   ]
  },
  {
   "cell_type": "code",
   "execution_count": 5,
   "metadata": {},
   "outputs": [
    {
     "name": "stdout",
     "output_type": "stream",
     "text": [
      "<class 'pandas.core.frame.DataFrame'>\n",
      "DatetimeIndex: 418 entries, 2009-01-04 to 2017-01-01\n",
      "Freq: W-SUN\n",
      "Data columns (total 14 columns):\n",
      " #   Column           Non-Null Count  Dtype  \n",
      "---  ------           --------------  -----  \n",
      " 0   p (mbar)         418 non-null    float64\n",
      " 1   T (degC)         418 non-null    float64\n",
      " 2   Tpot (K)         418 non-null    float64\n",
      " 3   Tdew (degC)      418 non-null    float64\n",
      " 4   rh (%)           418 non-null    float64\n",
      " 5   VPmax (mbar)     418 non-null    float64\n",
      " 6   VPact (mbar)     418 non-null    float64\n",
      " 7   VPdef (mbar)     418 non-null    float64\n",
      " 8   sh (g/kg)        418 non-null    float64\n",
      " 9   H2OC (mmol/mol)  418 non-null    float64\n",
      " 10  rho (g/m**3)     418 non-null    float64\n",
      " 11  wv (m/s)         418 non-null    float64\n",
      " 12  max. wv (m/s)    418 non-null    float64\n",
      " 13  wd (deg)         418 non-null    float64\n",
      "dtypes: float64(14)\n",
      "memory usage: 49.0 KB\n"
     ]
    }
   ],
   "source": [
    "# now we can clean the data\n",
    "w_df.info()"
   ]
  },
  {
   "cell_type": "code",
   "execution_count": 6,
   "metadata": {},
   "outputs": [
    {
     "data": {
      "text/plain": [
       "p (mbar)           0\n",
       "T (degC)           0\n",
       "Tpot (K)           0\n",
       "Tdew (degC)        0\n",
       "rh (%)             0\n",
       "VPmax (mbar)       0\n",
       "VPact (mbar)       0\n",
       "VPdef (mbar)       0\n",
       "sh (g/kg)          0\n",
       "H2OC (mmol/mol)    0\n",
       "rho (g/m**3)       0\n",
       "wv (m/s)           0\n",
       "max. wv (m/s)      0\n",
       "wd (deg)           0\n",
       "dtype: int64"
      ]
     },
     "execution_count": 6,
     "metadata": {},
     "output_type": "execute_result"
    }
   ],
   "source": [
    "w_df.isnull().sum()"
   ]
  },
  {
   "cell_type": "markdown",
   "metadata": {},
   "source": [
    "As we can see we don't have any missing data"
   ]
  },
  {
   "cell_type": "markdown",
   "metadata": {},
   "source": [
    "## 2) Divide your dataset into training and testing"
   ]
  },
  {
   "cell_type": "code",
   "execution_count": 7,
   "metadata": {},
   "outputs": [],
   "source": [
    "# following the instruction we divide the df in:\n",
    "\n",
    "# TRAIN all the index before '2016-01-01'\n",
    "w_train=w_df[w_df.index < '2016-01-01']\n",
    "# TEST all index after >= '2016-01-01'\n",
    "w_test=w_df[w_df.index >= '2016-01-01']"
   ]
  },
  {
   "cell_type": "markdown",
   "metadata": {},
   "source": [
    "______"
   ]
  },
  {
   "cell_type": "code",
   "execution_count": 8,
   "metadata": {},
   "outputs": [
    {
     "name": "stdout",
     "output_type": "stream",
     "text": [
      "Stored 'w_df' (DataFrame)\n",
      "Stored 'w_test' (DataFrame)\n",
      "Stored 'w_train' (DataFrame)\n"
     ]
    }
   ],
   "source": [
    "%store w_df\n",
    "%store w_test\n",
    "%store w_train"
   ]
  }
 ],
 "metadata": {
  "kernelspec": {
   "display_name": "Python 3",
   "language": "python",
   "name": "python3"
  },
  "language_info": {
   "codemirror_mode": {
    "name": "ipython",
    "version": 3
   },
   "file_extension": ".py",
   "mimetype": "text/x-python",
   "name": "python",
   "nbconvert_exporter": "python",
   "pygments_lexer": "ipython3",
   "version": "3.12.2"
  }
 },
 "nbformat": 4,
 "nbformat_minor": 2
}
